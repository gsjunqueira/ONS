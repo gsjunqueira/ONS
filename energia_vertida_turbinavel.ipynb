{
  "nbformat": 4,
  "nbformat_minor": 0,
  "metadata": {
    "colab": {
      "private_outputs": true,
      "provenance": [],
      "authorship_tag": "ABX9TyPw7bgivWqWH4RWynEUSO5T"
    },
    "kernelspec": {
      "name": "python3",
      "display_name": "Python 3"
    },
    "language_info": {
      "name": "python"
    }
  },
  "cells": [
    {
      "cell_type": "markdown",
      "source": [
        "##Inicialização das bibliotecas do Python, leitura do arquivo csv e cálculo das médias móveis"
      ],
      "metadata": {
        "id": "Qd7EXO3yhWG8"
      }
    },
    {
      "cell_type": "markdown",
      "source": [
        "###Inicializando as bibliotecas do Python\n",
        "\n",
        "***https://matplotlib.org/stable/gallery/style_sheets/style_sheets_reference.html***"
      ],
      "metadata": {
        "id": "FD4B6iSOhfXR"
      }
    },
    {
      "cell_type": "code",
      "execution_count": null,
      "metadata": {
        "id": "bKZacHlixUQ5"
      },
      "outputs": [],
      "source": [
        "from datetime import datetime\n",
        "from urllib import request\n",
        "\n",
        "import matplotlib.pyplot as plt\n",
        "import matplotlib.dates as mdates\n",
        "import numpy as np\n",
        "import pandas as pd\n",
        "import os\n",
        "plt.style.use('fivethirtyeight')\n",
        "%matplotlib inline\n"
      ]
    },
    {
      "cell_type": "markdown",
      "source": [
        "##Leitura dos arquivos CSV e preparação dos dataframes"
      ],
      "metadata": {
        "id": "Ppg4-GREh-UO"
      }
    },
    {
      "cell_type": "markdown",
      "source": [
        "###<font color = gray> Lista contendo os anos onde se tem o histórico de energia vertida turbinável"
      ],
      "metadata": {
        "id": "5KHZ2Ti7mCmR"
      }
    },
    {
      "cell_type": "code",
      "source": [
        "ano = [2015, 2016, 2017, 2018, 2019, 2020, 2021, 2022, 2023]"
      ],
      "metadata": {
        "id": "oED_2TNai1qY"
      },
      "execution_count": null,
      "outputs": []
    },
    {
      "cell_type": "markdown",
      "source": [
        "###<font color = gray> Criação de uma lista contendo todos os dataframes que recebe os dados da URL e o nome de todos os arquivos disponíveis em:\n",
        "https://ons-dl-prod-opendata.s3.amazonaws.com/dataset/energia_vertida_turbinavel_ho/ENERGIA_VERTIDA_TURBINAVEL_{ano}.csv"
      ],
      "metadata": {
        "id": "Rwxb8SUfoi-c"
      }
    },
    {
      "cell_type": "code",
      "source": [
        "evts = []\n",
        "\n",
        "for i in range(len(ano)):\n",
        "    request.urlretrieve(f'https://ons-dl-prod-opendata.s3.amazonaws.com/dataset/energia_vertida_turbinavel_ho/ENERGIA_VERTIDA_TURBINAVEL_{ano[i]}.csv'\n",
        ", f'ENERGIA_VERTIDA_TURBINAVEL_{ano[i]}.csv' )\n",
        "    evts.append(pd.read_csv(f'ENERGIA_VERTIDA_TURBINAVEL_{ano[i]}.csv', sep=';',encoding = \"utf-8\", parse_dates=['din_instante']))\n",
        "\n",
        "evt = pd.concat(evts)"
      ],
      "metadata": {
        "id": "wwkd5ReRjgWr"
      },
      "execution_count": null,
      "outputs": []
    },
    {
      "cell_type": "code",
      "source": [
        "evt.head()"
      ],
      "metadata": {
        "id": "EDXvZXKOzoG2"
      },
      "execution_count": null,
      "outputs": []
    },
    {
      "cell_type": "code",
      "source": [
        "evt.tail()"
      ],
      "metadata": {
        "id": "G0xNkw_LzzsI"
      },
      "execution_count": null,
      "outputs": []
    },
    {
      "cell_type": "markdown",
      "source": [
        "###<font color = gray> Criação de novas colunas no dataframe"
      ],
      "metadata": {
        "id": "_acsTlsIJPc4"
      }
    },
    {
      "cell_type": "code",
      "source": [
        "evt.insert(loc = 1, column = 'data', value = evt['din_instante'].dt.date)\n",
        "evt.insert(loc = 1, column = 'ano', value = evt['din_instante'].dt.year)"
      ],
      "metadata": {
        "id": "7myKzDpf8A-r"
      },
      "execution_count": null,
      "outputs": []
    },
    {
      "cell_type": "code",
      "source": [
        "evt.head()"
      ],
      "metadata": {
        "id": "vPbGAy1S9YEQ"
      },
      "execution_count": null,
      "outputs": []
    },
    {
      "cell_type": "markdown",
      "source": [
        "###<font color = gray> Somando os valores de energia vertida turbinável por agente, mês e ano"
      ],
      "metadata": {
        "id": "DifZfGeVKSO8"
      }
    },
    {
      "cell_type": "code",
      "source": [
        "df = evt.groupby(['id_subsistema', 'nom_agente', 'nom_reservatorio', 'cod_usina', 'ano', ])['val_energiavertidaturbinavel'].sum().reset_index()\n",
        "df.sort_values(['id_subsistema', 'nom_agente', 'cod_usina', 'ano'], inplace = True)\n",
        "pd.options.display.float_format = '{:.2f}'.format"
      ],
      "metadata": {
        "id": "uMENu47Z6wv8"
      },
      "execution_count": null,
      "outputs": []
    },
    {
      "cell_type": "code",
      "source": [
        "df.head(50)"
      ],
      "metadata": {
        "id": "1ffDw3WKBFjM"
      },
      "execution_count": null,
      "outputs": []
    },
    {
      "cell_type": "markdown",
      "source": [
        "###<font color = gray> Segregando os dataframes por ano, e selecionando os 15 maiores valores de energia vertida turbinável de cada ano.\n"
      ],
      "metadata": {
        "id": "93NHzYoSiWX6"
      }
    },
    {
      "cell_type": "code",
      "source": [
        "evt_ano = []\n",
        "for i in range(len(ano)):\n",
        "    evt_ano.append(df[df['ano'] == ano[i]].sort_values(by = ['val_energiavertidaturbinavel'],  ascending=False).head(15))\n",
        "evt_ano[8]"
      ],
      "metadata": {
        "id": "ua3J_KcK6ZO3"
      },
      "execution_count": null,
      "outputs": []
    },
    {
      "cell_type": "markdown",
      "source": [
        "###<font color = gray> Somando os valores de energia vertida turbinável por mês e ano"
      ],
      "metadata": {
        "id": "fkUY5QuLKtrE"
      }
    },
    {
      "cell_type": "code",
      "source": [
        "df1 = evt.groupby([ 'data', ])['val_energiavertidaturbinavel'].sum().reset_index()\n",
        "df1.sort_values([ 'data'], inplace = True)"
      ],
      "metadata": {
        "id": "ConkqmpjH9kP"
      },
      "execution_count": null,
      "outputs": []
    },
    {
      "cell_type": "code",
      "source": [
        "df1.head(50)"
      ],
      "metadata": {
        "id": "RbUb8HzrITOw"
      },
      "execution_count": null,
      "outputs": []
    },
    {
      "cell_type": "markdown",
      "source": [
        "# Plotagem das energias vertidas turbináveis dos dataframes"
      ],
      "metadata": {
        "id": "aPK2369Vqe8I"
      }
    },
    {
      "cell_type": "markdown",
      "source": [
        "###<font color = gray> Evolução da Energia Vertida Turbinável do SIN"
      ],
      "metadata": {
        "id": "Rnh6GaV2jQs2"
      }
    },
    {
      "cell_type": "code",
      "source": [
        "def imprimir():\n",
        "\n",
        "    plt.figure(figsize = (15, 5))\n",
        "    plt.plot(df1['data'], df1['val_energiavertidaturbinavel'], label = 'EVT', linestyle=':', linewidth = 1, color = \"red\")\n",
        "    plt.title(f'Evolução da Energia Vertida Turbinável')\n",
        "    plt.xlabel('data')\n",
        "    plt.ylabel('EVT')\n",
        "    plt.legend(loc = 'upper left')\n",
        "    plt.show()"
      ],
      "metadata": {
        "id": "4xycTvUjWSEO"
      },
      "execution_count": null,
      "outputs": []
    },
    {
      "cell_type": "code",
      "source": [
        "imprimir()"
      ],
      "metadata": {
        "id": "XsCBt3PyWTVb"
      },
      "execution_count": null,
      "outputs": []
    },
    {
      "cell_type": "markdown",
      "source": [
        "###<font color = gray> Ranking das usinas do SIn segundo a Energia Vertida Turbinável por ano"
      ],
      "metadata": {
        "id": "wRVmQK8Ujaz7"
      }
    },
    {
      "cell_type": "code",
      "source": [
        "def plot_evt(i):\n",
        "    fig, ax = plt.subplots( figsize = (15, 5))\n",
        "    bar_colors = ['indigo', 'darkviolet', 'darkmagenta', 'darkred', 'red', 'orangered', 'darkorange', 'orange', 'gold', 'yellow', 'honeydew', 'lawngreen', 'green', 'darkgreen', 'blue' ]\n",
        "    valores = evt_ano[i]['val_energiavertidaturbinavel'].tolist()\n",
        "    usinas = evt_ano[i]['nom_reservatorio'].tolist()\n",
        "    ax.bar(usinas, valores, color=bar_colors)\n",
        "    ax.set_ylabel('Energia Vertida Turbinável (MWh)')\n",
        "    ax.xaxis.set_tick_params(rotation=75)\n",
        "    plt.rcParams['xtick.labelsize'] = 10\n",
        "    plt.rcParams['ytick.labelsize'] = 10\n",
        "    ax.set_title(f'Valores de energia vertida turbinável para o ano de {ano[i]}')\n",
        "    plt.show()\n"
      ],
      "metadata": {
        "id": "PW8cvTv58JCs"
      },
      "execution_count": null,
      "outputs": []
    },
    {
      "cell_type": "code",
      "source": [
        "for i in range(len(ano)):\n",
        "    plot_evt(i)\n",
        "    print('___________________________________________________________________________________________________________________________________________________________________________________')"
      ],
      "metadata": {
        "id": "4npAV-ofFv1B"
      },
      "execution_count": null,
      "outputs": []
    }
  ]
}