{
  "nbformat": 4,
  "nbformat_minor": 0,
  "metadata": {
    "colab": {
      "private_outputs": true,
      "provenance": [],
      "authorship_tag": "ABX9TyMKYP2DJKYTU5fhe5yWqim4",
      "include_colab_link": true
    },
    "kernelspec": {
      "name": "python3",
      "display_name": "Python 3"
    },
    "language_info": {
      "name": "python"
    }
  },
  "cells": [
    {
      "cell_type": "markdown",
      "metadata": {
        "id": "view-in-github",
        "colab_type": "text"
      },
      "source": [
        "<a href=\"https://colab.research.google.com/github/gsjunqueira/ONS/blob/main/Gera%C3%A7%C3%A3o.ipynb\" target=\"_parent\"><img src=\"https://colab.research.google.com/assets/colab-badge.svg\" alt=\"Open In Colab\"/></a>"
      ]
    },
    {
      "cell_type": "markdown",
      "source": [
        "#***Geração dos 10 maiores geradores do Brasil***\n",
        "\n",
        "Desenvolvido por: ***Giovani Santiago Junqueira***"
      ],
      "metadata": {
        "id": "LFWoIC32DJRV"
      }
    },
    {
      "cell_type": "markdown",
      "source": [
        "##<font color = lightblue>Fonte de dados"
      ],
      "metadata": {
        "id": "KTOQjgGYJO0P"
      }
    },
    {
      "cell_type": "markdown",
      "source": [
        "\n",
        "***1)*** <font color = gray> para os anos de 2000 a 2021 os dados de geração foram conseguidos através do **<font color=black>Dados Abertos do ONS** <font color = gray> através da URL: https://ons-dl-prod-opendata.s3.amazonaws.com/dataset/geracao_usina_ho/GERACAO_USINA_{ano}.csv\n",
        "\n",
        "***2)*** <font color = gray> para os anos a partir de 2022 os dados de geração foram conseguidos através do **<font color=black>Dados Abertos do ONS** <font color = gray> através da URL: https://ons-dl-prod-opendata.s3.amazonaws.com/dataset/geracao_usina_2_ho/GERACAO_USINA-2_{ano}_{mes}.csv\n",
        "\n"
      ],
      "metadata": {
        "id": "_7ioIhpJJFd7"
      }
    },
    {
      "cell_type": "markdown",
      "source": [
        "###GERAÇÃO POR USINA EM BASE HORÁRIA\n",
        "<font color = gray>Geração verificada de usinas, conjuntos de usinas e grupos de pequenas usinas em base horária. Os Conjuntos são formados por usinas classificadas na modalidade Tipo II-C, conforme Submódulo 7.2 dos Procedimentos de Rede e são estabelecidos em Ajustamentos Operativos, disponíveis no MPO. Os grupos de pequenas usinas são formados por usinas Tipo III, que não possuem relacionamento com o ONS, e os dados são referentes a previsões de geração. Os dados dos anos de 2000 a 2021 estão disponibilizados em arquivos agrupados pelos respectivos anos, e a partir do ano de 2022 as informações estão agrupados em arquivos por mês/ano. Os dados disponibilizados fazem parte de um processo de consistência recorrente e, portanto, podem ser atualizados após a sua publicação.\n",
        "###Aviso Legal\n",
        "<font color = gray>Ao acessar este site e/ou utilizar as informações provenientes dele, será considerado que você aceitou os termos e condições da LICENÇA CC-BY, que permite que os reutilizadores distribuam, modifiquem, adaptem e desenvolvam o material sobre os dados, desde que seja dado o crédito apropriado ao criador(ONS) e que informe quais alterações foram feitas. Os dados são fornecidos \"como estão\" e apenas para fins informativos; e este conjunto de dados pode ter sua disponibilidade interrompida a qualquer momento e por qualquer motivo\n",
        "###Aviso Legal: Licença\n",
        "*http://opendefinition.org/od/2.1/pt-br*"
      ],
      "metadata": {
        "id": "emJCPbvMEbnm"
      }
    },
    {
      "cell_type": "markdown",
      "source": [
        "##<font color = lightblue>Inicializando as bibliotecas do Python\n",
        "\n",
        "***https://matplotlib.org/stable/gallery/style_sheets/style_sheets_reference.html***"
      ],
      "metadata": {
        "id": "iTcvBAZQJkv3"
      }
    },
    {
      "cell_type": "code",
      "execution_count": null,
      "metadata": {
        "id": "erKqUFsODIX_"
      },
      "outputs": [],
      "source": [
        "# coding=UTF-8\n",
        "\n",
        "__author__ = \"Giovani Santiago Junqueira\"\n",
        "\n",
        "from google.colab import drive\n",
        "from google.colab import files\n",
        "\n",
        "from datetime import datetime\n",
        "from urllib import request\n",
        "\n",
        "import datetime as dt\n",
        "import matplotlib.pyplot as plt\n",
        "import matplotlib.dates as mdates\n",
        "import numpy as np\n",
        "import pandas as pd\n",
        "import os\n",
        "plt.style.use('fivethirtyeight')\n",
        "%matplotlib inline"
      ]
    },
    {
      "cell_type": "markdown",
      "source": [
        "###<font color = lightblue>Montar o Google Drive no Colab com o nome de gdrive"
      ],
      "metadata": {
        "id": "rCxLYPc6X1ZO"
      }
    },
    {
      "cell_type": "code",
      "source": [
        "## Montar o Google Drive no Colab com o nome de gdrive\n",
        "\n",
        "drive.mount('/content/gdrive')\n",
        "\n",
        "# O Comando abaixo mostra qual diretório você está trabalhando no momento.\n",
        "\n",
        "print( os.getcwd() )\n",
        "\n",
        "Caminho = 'gdrive/My Drive/Geração/geracao.xlsx'"
      ],
      "metadata": {
        "id": "jU_FsGoKX3Sa"
      },
      "execution_count": null,
      "outputs": []
    },
    {
      "cell_type": "markdown",
      "source": [
        "##<font color = lightblue> Lista contendo os anos onde se tem o histórico de energia vertida turbinável"
      ],
      "metadata": {
        "id": "jQ7Ozhm_KE9E"
      }
    },
    {
      "cell_type": "code",
      "source": [
        "anos = [2000, 2001, 2002, 2003, 2004, 2005, 2006, 2007, 2008, 2009,\n",
        "       2010, 2011, 2012, 2013, 2014, 2015, 2016, 2017, 2018, 2019,\n",
        "       2020, 2021, 2022, 2023]\n",
        "\n",
        "ano = anos[-1]\n",
        "\n",
        "mes = ['01', '02', '03', '04', '05', '06', '07', '08', '09', '10', '11', '12']"
      ],
      "metadata": {
        "id": "zyLuFKoWKp0i"
      },
      "execution_count": null,
      "outputs": []
    },
    {
      "cell_type": "markdown",
      "source": [
        "##<font color = lightblue>Função que realiza a leitura dos arquivos CSV e realiza a preparação dos dataframes"
      ],
      "metadata": {
        "id": "OHkRm2OnLZ1G"
      }
    },
    {
      "cell_type": "code",
      "source": [
        "def ler_arquivo(ano):\n",
        "\n",
        "    geracoes = []\n",
        "\n",
        "    dtype = {'nom_tipocombustivel' : 'category',\n",
        "        'nom_tipousina' :\t'category',\n",
        "        'nom_usina' : 'category',\n",
        "        'val_geracao' : 'float32' }\n",
        "\n",
        "    if ano < 2022:\n",
        "        request.urlretrieve(f'https://ons-dl-prod-opendata.s3.amazonaws.com/dataset/geracao_usina_ho/GERACAO_USINA_{ano}.csv',\n",
        "                            f'GERACAO_USINA_{ano}.csv')\n",
        "        geracoes.append(pd.read_csv(f'GERACAO_USINA_{ano}.csv', sep=';', dtype = dtype, encoding = \"utf-8\", parse_dates=['din_instante'],\n",
        "                                    usecols = ['din_instante', 'nom_tipousina', 'nom_tipocombustivel', 'nom_usina', 'val_geracao']))\n",
        "\n",
        "    elif ano < datetime.now().year:\n",
        "        for j in range(len(mes)):\n",
        "            request.urlretrieve(f'https://ons-dl-prod-opendata.s3.amazonaws.com/dataset/geracao_usina_2_ho/GERACAO_USINA-2_{ano}_{mes[j]}.csv',\n",
        "                                f'GERACAO_USINA-2_{ano}_{mes[j]}.csv' )\n",
        "            geracoes.append(pd.read_csv(f'GERACAO_USINA-2_{ano}_{mes[j]}.csv', sep=';', dtype = dtype, encoding = \"utf-8\", parse_dates=['din_instante'],\n",
        "                                        usecols = ['din_instante', 'nom_tipousina', 'nom_tipocombustivel', 'nom_usina', 'val_geracao']))\n",
        "\n",
        "    else:\n",
        "        for j in range(len(mes)):\n",
        "            if int(mes[j])< datetime.now().month:\n",
        "                request.urlretrieve(f'https://ons-dl-prod-opendata.s3.amazonaws.com/dataset/geracao_usina_2_ho/GERACAO_USINA-2_{ano}_{mes[j]}.csv',\n",
        "                                    f'GERACAO_USINA-2_{ano}_{mes[j]}.csv' )\n",
        "                geracoes.append(pd.read_csv(f'GERACAO_USINA-2_{ano}_{mes[j]}.csv', sep=';', dtype = dtype, encoding = \"utf-8\", parse_dates=['din_instante'],\n",
        "                                            usecols = ['din_instante', 'nom_tipousina', 'nom_tipocombustivel', 'nom_usina', 'val_geracao']))\n",
        "\n",
        "    return pd.concat(geracoes)"
      ],
      "metadata": {
        "id": "SRMubHvcLoRt"
      },
      "execution_count": null,
      "outputs": []
    },
    {
      "cell_type": "markdown",
      "source": [
        "##<font color = lightblue>Chamada da função que realiza a leitura dos arquivos e retorna o dataframe"
      ],
      "metadata": {
        "id": "MDKyPuGANSvY"
      }
    },
    {
      "cell_type": "code",
      "source": [
        "ger = ler_arquivo(ano)"
      ],
      "metadata": {
        "id": "ecyswNxxNgd0"
      },
      "execution_count": null,
      "outputs": []
    },
    {
      "cell_type": "markdown",
      "source": [
        "##<font color = lightblue>Inserção de novas colunas no dataframe"
      ],
      "metadata": {
        "id": "0fXhMb06PMBT"
      }
    },
    {
      "cell_type": "code",
      "source": [
        "ger.insert(loc = 1, column = 'data', value = ger['din_instante'].dt.date)\n",
        "ger.insert(loc = 1, column = 'ano', value = ger['din_instante'].dt.year)\n",
        "ger.insert(loc = 1, column = 'mes', value = ger['din_instante'].dt.month)"
      ],
      "metadata": {
        "id": "pO5uB2hgPS4Q"
      },
      "execution_count": null,
      "outputs": []
    },
    {
      "cell_type": "markdown",
      "source": [
        "##<font color = lightblue>Mudando o nome da usina de Itaipu 50Hz e 60Hz para somente Itaipu"
      ],
      "metadata": {
        "id": "QEflgD9WQNEI"
      }
    },
    {
      "cell_type": "code",
      "source": [
        "ger['nom_usina'].replace({'Itaipu 60 Hz': 'Itaipu', 'Itaipu 50 Hz': 'Itaipu'}, inplace = True)"
      ],
      "metadata": {
        "id": "2BDfLVEdQNqJ"
      },
      "execution_count": null,
      "outputs": []
    },
    {
      "cell_type": "markdown",
      "source": [
        "##<font color = lightblue>Realizando a soma da geração das usinas"
      ],
      "metadata": {
        "id": "kUGVdQyXQp7O"
      }
    },
    {
      "cell_type": "code",
      "source": [
        "geracao = ger.groupby(['nom_usina'])['val_geracao'].sum().reset_index()\n",
        "geracao.sort_values(by = ['val_geracao'],  ascending=False, inplace = True)\n",
        "\n",
        "saida = geracao.head(10)\n",
        "\n",
        "pd.options.display.float_format = '{:.2f}'.format"
      ],
      "metadata": {
        "id": "TIRCvpS9QqRq"
      },
      "execution_count": null,
      "outputs": []
    },
    {
      "cell_type": "markdown",
      "source": [
        "##<font color = Darkblue>Saída salva em arquivo 'xlsx' no Google drive"
      ],
      "metadata": {
        "id": "H-lYDMIRTL-D"
      }
    },
    {
      "cell_type": "code",
      "source": [
        "filtro = ger[ger['val_geracao']>0]['din_instante'].max()\n",
        "saida.to_excel(Caminho, index = False)\n",
        "filtro"
        
      ],
      "metadata": {
        "id": "CNpjfiQBY2fM"
      },
      "execution_count": null,
      "outputs": []
    },
    {
      "cell_type": "markdown",
      "source": [
        "##<font color = Darkblue>Saída Gráfica"
      ],
      "metadata": {
        "id": "NqJN9CRDTDcC"
      }
    },
    {
      "cell_type": "code",
      "source": [
        "fig, ax = plt.subplots( figsize = (15, 5))\n",
        "bar_colors = ['indigo', 'darkviolet', 'darkmagenta', 'darkred', 'red', 'orangered', 'darkorange', 'orange', 'gold', 'yellow']\n",
        "\n",
        "valores = saida['val_geracao'].tolist()\n",
        "usinas = saida['nom_usina'].tolist()\n",
        "\n",
        "ax.bar(usinas, valores, color=bar_colors)\n",
        "ax.set_ylabel('Energia Gerada (MWh)')\n",
        "ax.xaxis.set_tick_params(rotation=75)\n",
        "plt.rcParams['xtick.labelsize'] = 10\n",
        "plt.rcParams['ytick.labelsize'] = 10\n",
        "ax.set_title(f'Valores de energia gerada para o ano de {ano}')\n",
        "plt.show()"
      ],
      "metadata": {
        "id": "yYZ3spPzRb2h"
      },
      "execution_count": null,
      "outputs": []
    }
  ]
}
